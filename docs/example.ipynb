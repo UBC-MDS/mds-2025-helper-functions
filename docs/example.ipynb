{
    "cells": [
        {
            "cell_type": "markdown",
            "metadata": {},
            "source": [
                "# Example usage\n",
                "\n",
                "To use `mds_2025_helper_functions` in a project:"
            ]
        },
        {
            "cell_type": "markdown",
            "metadata": {},
            "source": [
                "## Imports"
            ]
        },
        {
            "cell_type": "code",
            "execution_count": 22,
            "metadata": {},
            "outputs": [],
            "source": [
                "from mds_2025_helper_functions.scores import compare_model_scores\n",
                "from sklearn.datasets import load_iris, load_diabetes\n",
                "from sklearn.dummy import DummyRegressor, DummyClassifier\n",
                "from sklearn.tree import DecisionTreeRegressor, DecisionTreeClassifier\n",
                "import warnings\n",
                "warnings.filterwarnings('ignore')"
            ]
        },
        {
            "cell_type": "markdown",
            "metadata": {},
            "source": [
                "## Compare CV scores of multiple models"
            ]
        },
        {
            "cell_type": "markdown",
            "metadata": {},
            "source": [
                "`compare_model_scores()` is a wrapper function for scikit learn's `cross_validate()` that allows you to compare the mean cross validation scores across multiple models. The only difference in calling this function compared to `cross_validate()` is that it takes multiple model objects rather than one.\n",
                "\n",
                "Note: The default scoring metric is R² for regression and accuracy for classification tasks.\n",
                "\n",
                "### Basic usage\n",
                "To demonstrate, let's load a sample dataset and instantiate our model classes. We'll be using the Diabetes dataset from scikit learn. The Diabetes dataset contains 10 baseline variables and progression of diabetes after one year. To learn more about this dataset, visit its documentation: https://scikit-learn.org/stable/datasets/toy_dataset.html#diabetes-dataset"
            ]
        },
        {
            "cell_type": "code",
            "execution_count": 23,
            "metadata": {},
            "outputs": [],
            "source": [
                "X, y = load_diabetes(return_X_y=True)\n",
                "dummy_regressor = DummyRegressor()\n",
                "tree_regressor = DecisionTreeRegressor()"
            ]
        },
        {
            "cell_type": "markdown",
            "metadata": {},
            "source": [
                "This is already enough for our basic use of the function. Simply pass these to `compare_model_scores()`.\n",
                "\n",
                "Note: The default scoring metric is R² for regression tasks. Negative R² scores indicate the model performs worse than predicting the mean value."
            ]
        },
        {
            "cell_type": "code",
            "execution_count": 24,
            "metadata": {},
            "outputs": [
                {
                    "data": {
                        "text/html": [
                            "<div>\n",
                            "<style scoped>\n",
                            "    .dataframe tbody tr th:only-of-type {\n",
                            "        vertical-align: middle;\n",
                            "    }\n",
                            "\n",
                            "    .dataframe tbody tr th {\n",
                            "        vertical-align: top;\n",
                            "    }\n",
                            "\n",
                            "    .dataframe thead th {\n",
                            "        text-align: right;\n",
                            "    }\n",
                            "</style>\n",
                            "<table border=\"1\" class=\"dataframe\">\n",
                            "  <thead>\n",
                            "    <tr style=\"text-align: right;\">\n",
                            "      <th></th>\n",
                            "      <th>fit_time</th>\n",
                            "      <th>score_time</th>\n",
                            "      <th>test_score</th>\n",
                            "    </tr>\n",
                            "    <tr>\n",
                            "      <th>model</th>\n",
                            "      <th></th>\n",
                            "      <th></th>\n",
                            "      <th></th>\n",
                            "    </tr>\n",
                            "  </thead>\n",
                            "  <tbody>\n",
                            "    <tr>\n",
                            "      <th>DummyRegressor</th>\n",
                            "      <td>0.000311</td>\n",
                            "      <td>0.000366</td>\n",
                            "      <td>-0.027506</td>\n",
                            "    </tr>\n",
                            "    <tr>\n",
                            "      <th>DecisionTreeRegressor</th>\n",
                            "      <td>0.003522</td>\n",
                            "      <td>0.000706</td>\n",
                            "      <td>-0.128997</td>\n",
                            "    </tr>\n",
                            "  </tbody>\n",
                            "</table>\n",
                            "</div>"
                        ],
                        "text/plain": [
                            "                       fit_time  score_time  test_score\n",
                            "model                                                  \n",
                            "DummyRegressor         0.000311    0.000366   -0.027506\n",
                            "DecisionTreeRegressor  0.003522    0.000706   -0.128997"
                        ]
                    },
                    "execution_count": 24,
                    "metadata": {},
                    "output_type": "execute_result"
                }
            ],
            "source": [
                "compare_model_scores(dummy_regressor, tree_regressor, X=X, y=y)"
            ]
        },
        {
            "cell_type": "markdown",
            "metadata": {},
            "source": [
                "As you can see, the function returns a dataframe with the performance statistics for each model. The model names are used for the index.\n",
                "\n",
                "### Using `cross_validate()` arguments\n",
                "Like `cross_validate`, the function also works for classification models, and you can pass arguments to reutrn training scores, or use different scoring metrics.\n",
                "\n",
                "For classification, we'll be using the Iris dataset from scikit learn. The Iris dataset contains measurements of iris flowers with 3 different species. To learn more about this dataset, visit its documentation: https://scikit-learn.org/stable/datasets/toy_dataset.html#iris-dataset"
            ]
        },
        {
            "cell_type": "code",
            "execution_count": 25,
            "metadata": {},
            "outputs": [
                {
                    "data": {
                        "text/html": [
                            "<div>\n",
                            "<style scoped>\n",
                            "    .dataframe tbody tr th:only-of-type {\n",
                            "        vertical-align: middle;\n",
                            "    }\n",
                            "\n",
                            "    .dataframe tbody tr th {\n",
                            "        vertical-align: top;\n",
                            "    }\n",
                            "\n",
                            "    .dataframe thead th {\n",
                            "        text-align: right;\n",
                            "    }\n",
                            "</style>\n",
                            "<table border=\"1\" class=\"dataframe\">\n",
                            "  <thead>\n",
                            "    <tr style=\"text-align: right;\">\n",
                            "      <th></th>\n",
                            "      <th>fit_time</th>\n",
                            "      <th>score_time</th>\n",
                            "      <th>test_score</th>\n",
                            "      <th>train_score</th>\n",
                            "    </tr>\n",
                            "    <tr>\n",
                            "      <th>model</th>\n",
                            "      <th></th>\n",
                            "      <th></th>\n",
                            "      <th></th>\n",
                            "      <th></th>\n",
                            "    </tr>\n",
                            "  </thead>\n",
                            "  <tbody>\n",
                            "    <tr>\n",
                            "      <th>DummyClassifier</th>\n",
                            "      <td>0.000196</td>\n",
                            "      <td>0.001130</td>\n",
                            "      <td>0.166667</td>\n",
                            "      <td>0.166667</td>\n",
                            "    </tr>\n",
                            "    <tr>\n",
                            "      <th>DecisionTreeClassifier</th>\n",
                            "      <td>0.000527</td>\n",
                            "      <td>0.001102</td>\n",
                            "      <td>0.959900</td>\n",
                            "      <td>1.000000</td>\n",
                            "    </tr>\n",
                            "  </tbody>\n",
                            "</table>\n",
                            "</div>"
                        ],
                        "text/plain": [
                            "                        fit_time  score_time  test_score  train_score\n",
                            "model                                                                \n",
                            "DummyClassifier         0.000196    0.001130    0.166667     0.166667\n",
                            "DecisionTreeClassifier  0.000527    0.001102    0.959900     1.000000"
                        ]
                    },
                    "execution_count": 25,
                    "metadata": {},
                    "output_type": "execute_result"
                }
            ],
            "source": [
                "X, y = load_iris(return_X_y=True)\n",
                "dummy_classifier = DummyClassifier()\n",
                "tree_classifier = DecisionTreeClassifier()\n",
                "scoring_metric = \"f1_macro\"                 # A scoring metric for multiclass classification\n",
                "\n",
                "compare_model_scores(dummy_classifier, tree_classifier, X=X, y=y, return_train_scores=True, scoring=scoring_metric)"
            ]
        },
        {
            "cell_type": "markdown",
            "metadata": {},
            "source": [
                "### Passing multiple models of the same type\n",
                "\n",
                "When you compare several models of the same type, each model is be given an index in the output table based on the order it was passed to `compare_model_scores()`."
            ]
        },
        {
            "cell_type": "code",
            "execution_count": 26,
            "metadata": {},
            "outputs": [
                {
                    "data": {
                        "text/html": [
                            "<div>\n",
                            "<style scoped>\n",
                            "    .dataframe tbody tr th:only-of-type {\n",
                            "        vertical-align: middle;\n",
                            "    }\n",
                            "\n",
                            "    .dataframe tbody tr th {\n",
                            "        vertical-align: top;\n",
                            "    }\n",
                            "\n",
                            "    .dataframe thead th {\n",
                            "        text-align: right;\n",
                            "    }\n",
                            "</style>\n",
                            "<table border=\"1\" class=\"dataframe\">\n",
                            "  <thead>\n",
                            "    <tr style=\"text-align: right;\">\n",
                            "      <th></th>\n",
                            "      <th>fit_time</th>\n",
                            "      <th>score_time</th>\n",
                            "      <th>test_score</th>\n",
                            "    </tr>\n",
                            "    <tr>\n",
                            "      <th>model</th>\n",
                            "      <th></th>\n",
                            "      <th></th>\n",
                            "      <th></th>\n",
                            "    </tr>\n",
                            "  </thead>\n",
                            "  <tbody>\n",
                            "    <tr>\n",
                            "      <th>DecisionTreeClassifier</th>\n",
                            "      <td>0.000597</td>\n",
                            "      <td>0.000388</td>\n",
                            "      <td>0.966667</td>\n",
                            "    </tr>\n",
                            "    <tr>\n",
                            "      <th>DecisionTreeClassifier_2</th>\n",
                            "      <td>0.000505</td>\n",
                            "      <td>0.000444</td>\n",
                            "      <td>0.960000</td>\n",
                            "    </tr>\n",
                            "  </tbody>\n",
                            "</table>\n",
                            "</div>"
                        ],
                        "text/plain": [
                            "                          fit_time  score_time  test_score\n",
                            "model                                                     \n",
                            "DecisionTreeClassifier    0.000597    0.000388    0.966667\n",
                            "DecisionTreeClassifier_2  0.000505    0.000444    0.960000"
                        ]
                    },
                    "execution_count": 26,
                    "metadata": {},
                    "output_type": "execute_result"
                }
            ],
            "source": [
                "second_tree_classifier = DecisionTreeClassifier(max_depth=3)\n",
                "\n",
                "compare_model_scores(tree_classifier, second_tree_classifier, X=X, y=y)"
            ]
        },
        {
            "cell_type": "markdown",
            "metadata": {},
            "source": [
                "## Perform exploratory data analysis (EDA)"
            ]
        },
        {
            "cell_type": "code",
            "execution_count": null,
            "metadata": {},
            "outputs": [],
            "source": [
                "# Sam"
            ]
        },
        {
            "cell_type": "markdown",
            "metadata": {},
            "source": [
                "## Summarize a dataset"
            ]
        },
        {
            "cell_type": "code",
            "execution_count": null,
            "metadata": {},
            "outputs": [],
            "source": [
                "# Karlygash"
            ]
        },
        {
            "cell_type": "markdown",
            "metadata": {},
            "source": [
                "## Visualize hypothesis tests"
            ]
        },
        {
            "cell_type": "code",
            "execution_count": 27,
            "metadata": {},
            "outputs": [],
            "source": [
                "#CiXu"
            ]
        }
    ],
    "metadata": {
        "kernelspec": {
            "display_name": "mds-2025-helper",
            "language": "python",
            "name": "python3"
        },
        "language_info": {
            "codemirror_mode": {
                "name": "ipython",
                "version": 3
            },
            "file_extension": ".py",
            "mimetype": "text/x-python",
            "name": "python",
            "nbconvert_exporter": "python",
            "pygments_lexer": "ipython3",
            "version": "3.9.21"
        }
    },
    "nbformat": 4,
    "nbformat_minor": 4
}
